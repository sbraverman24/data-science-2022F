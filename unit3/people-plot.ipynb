{
 "cells": [
  {
   "cell_type": "code",
   "execution_count": 2,
   "id": "67472127",
   "metadata": {},
   "outputs": [],
   "source": [
    "# from shutil import copyfile\n",
    "# copyfile(\"../unit2/people.csv\", \"people.csv\")"
   ]
  },
  {
   "cell_type": "code",
   "execution_count": 4,
   "id": "9e8e8a4b",
   "metadata": {},
   "outputs": [
    {
     "data": {
      "text/html": [
       "<div>\n",
       "<style scoped>\n",
       "    .dataframe tbody tr th:only-of-type {\n",
       "        vertical-align: middle;\n",
       "    }\n",
       "\n",
       "    .dataframe tbody tr th {\n",
       "        vertical-align: top;\n",
       "    }\n",
       "\n",
       "    .dataframe thead th {\n",
       "        text-align: right;\n",
       "    }\n",
       "</style>\n",
       "<table border=\"1\" class=\"dataframe\">\n",
       "  <thead>\n",
       "    <tr style=\"text-align: right;\">\n",
       "      <th></th>\n",
       "      <th>name</th>\n",
       "      <th>height</th>\n",
       "      <th>friends</th>\n",
       "      <th>gpa</th>\n",
       "      <th>sport</th>\n",
       "      <th>shoes</th>\n",
       "    </tr>\n",
       "  </thead>\n",
       "  <tbody>\n",
       "    <tr>\n",
       "      <th>0</th>\n",
       "      <td>dakota</td>\n",
       "      <td>72</td>\n",
       "      <td>307</td>\n",
       "      <td>3.15</td>\n",
       "      <td>basketball</td>\n",
       "      <td>sneakers</td>\n",
       "    </tr>\n",
       "    <tr>\n",
       "      <th>1</th>\n",
       "      <td>hayden</td>\n",
       "      <td>68</td>\n",
       "      <td>335</td>\n",
       "      <td>3.50</td>\n",
       "      <td>tennis</td>\n",
       "      <td>flip-flops</td>\n",
       "    </tr>\n",
       "    <tr>\n",
       "      <th>2</th>\n",
       "      <td>charlie</td>\n",
       "      <td>61</td>\n",
       "      <td>34</td>\n",
       "      <td>1.10</td>\n",
       "      <td>baseball</td>\n",
       "      <td>flip-flops</td>\n",
       "    </tr>\n",
       "    <tr>\n",
       "      <th>3</th>\n",
       "      <td>kamryn</td>\n",
       "      <td>66</td>\n",
       "      <td>200</td>\n",
       "      <td>2.18</td>\n",
       "      <td>soccer</td>\n",
       "      <td>sneakers</td>\n",
       "    </tr>\n",
       "    <tr>\n",
       "      <th>4</th>\n",
       "      <td>emerson</td>\n",
       "      <td>65</td>\n",
       "      <td>213</td>\n",
       "      <td>3.06</td>\n",
       "      <td>soccer</td>\n",
       "      <td>sneakers</td>\n",
       "    </tr>\n",
       "    <tr>\n",
       "      <th>5</th>\n",
       "      <td>jessie</td>\n",
       "      <td>61</td>\n",
       "      <td>202</td>\n",
       "      <td>2.41</td>\n",
       "      <td>basketball</td>\n",
       "      <td>flip-flops</td>\n",
       "    </tr>\n",
       "    <tr>\n",
       "      <th>6</th>\n",
       "      <td>sawyer</td>\n",
       "      <td>67</td>\n",
       "      <td>314</td>\n",
       "      <td>2.96</td>\n",
       "      <td>tennis</td>\n",
       "      <td>flip-flops</td>\n",
       "    </tr>\n",
       "    <tr>\n",
       "      <th>7</th>\n",
       "      <td>london</td>\n",
       "      <td>64</td>\n",
       "      <td>436</td>\n",
       "      <td>3.98</td>\n",
       "      <td>soccer</td>\n",
       "      <td>sneakers</td>\n",
       "    </tr>\n",
       "  </tbody>\n",
       "</table>\n",
       "</div>"
      ],
      "text/plain": [
       "      name  height  friends   gpa       sport       shoes\n",
       "0   dakota      72      307  3.15  basketball    sneakers\n",
       "1   hayden      68      335  3.50      tennis  flip-flops\n",
       "2  charlie      61       34  1.10    baseball  flip-flops\n",
       "3   kamryn      66      200  2.18      soccer    sneakers\n",
       "4  emerson      65      213  3.06      soccer    sneakers\n",
       "5   jessie      61      202  2.41  basketball  flip-flops\n",
       "6   sawyer      67      314  2.96      tennis  flip-flops\n",
       "7   london      64      436  3.98      soccer    sneakers"
      ]
     },
     "execution_count": 4,
     "metadata": {},
     "output_type": "execute_result"
    }
   ],
   "source": [
    "import pandas as pd\n",
    "import matplotlib.pyplot as plt\n",
    "\n",
    "people = pd.read_csv(\"people.csv\")\n",
    "people"
   ]
  },
  {
   "cell_type": "code",
   "execution_count": 7,
   "id": "a8d08812",
   "metadata": {},
   "outputs": [
    {
     "data": {
      "text/plain": [
       "<matplotlib.collections.PathCollection at 0x7f91ac97e1c0>"
      ]
     },
     "execution_count": 7,
     "metadata": {},
     "output_type": "execute_result"
    },
    {
     "data": {
      "image/png": "[encoded data removed]",
      "text/plain": [
       "<Figure size 432x288 with 1 Axes>"
      ]
     },
     "metadata": {
      "needs_background": "light"
     },
     "output_type": "display_data"
    }
   ],
   "source": [
    "plt.scatter(people.friends, people.height)"
   ]
  },
  {
   "cell_type": "code",
   "execution_count": 11,
   "id": "cf94d3f9",
   "metadata": {
    "scrolled": true
   },
   "outputs": [
    {
     "data": {
      "text/plain": [
       "Text(0, 0.5, 'Height')"
      ]
     },
     "execution_count": 11,
     "metadata": {},
     "output_type": "execute_result"
    },
    {
     "data": {
      "image/png": "[encoded data removed]",
      "text/plain": [
       "<Figure size 432x288 with 1 Axes>"
      ]
     },
     "metadata": {
      "needs_background": "light"
     },
     "output_type": "display_data"
    }
   ],
   "source": [
    "plt.scatter(people.friends, people.height)\n",
    "\n",
    "plt.grid()\n",
    "plt.xlabel(\"Friends\")\n",
    "plt.ylabel(\"Height\")"
   ]
  },
  {
   "cell_type": "code",
   "execution_count": 12,
   "id": "9783c1e1",
   "metadata": {},
   "outputs": [
    {
     "data": {
      "text/plain": [
       "[<matplotlib.lines.Line2D at 0x7f91ae472fa0>]"
      ]
     },
     "execution_count": 12,
     "metadata": {},
     "output_type": "execute_result"
    },
    {
     "data": {
      "image/png": "[encoded data removed]",
      "text/plain": [
       "<Figure size 432x288 with 1 Axes>"
      ]
     },
     "metadata": {
      "needs_background": "light"
     },
     "output_type": "display_data"
    }
   ],
   "source": [
    "import numpy as np\n",
    "\n",
    "xpoints = np.array([400, 50])\n",
    "ypoints = np.array([70, 61])\n",
    "\n",
    "plt.scatter(people.friends, people.height)\n",
    "\n",
    "plt.grid()\n",
    "plt.xlabel(\"Friends\")\n",
    "plt.ylabel(\"Height\")\n",
    "\n",
    "plt.plot(xpoints, ypoints)\n"
   ]
  },
  {
   "cell_type": "code",
   "execution_count": 13,
   "id": "d7a6ae89",
   "metadata": {},
   "outputs": [
    {
     "data": {
      "text/html": [
       "<div>\n",
       "<style scoped>\n",
       "    .dataframe tbody tr th:only-of-type {\n",
       "        vertical-align: middle;\n",
       "    }\n",
       "\n",
       "    .dataframe tbody tr th {\n",
       "        vertical-align: top;\n",
       "    }\n",
       "\n",
       "    .dataframe thead th {\n",
       "        text-align: right;\n",
       "    }\n",
       "</style>\n",
       "<table border=\"1\" class=\"dataframe\">\n",
       "  <thead>\n",
       "    <tr style=\"text-align: right;\">\n",
       "      <th></th>\n",
       "      <th>height</th>\n",
       "      <th>friends</th>\n",
       "      <th>gpa</th>\n",
       "    </tr>\n",
       "  </thead>\n",
       "  <tbody>\n",
       "    <tr>\n",
       "      <th>height</th>\n",
       "      <td>1.000000</td>\n",
       "      <td>0.511286</td>\n",
       "      <td>0.502907</td>\n",
       "    </tr>\n",
       "    <tr>\n",
       "      <th>friends</th>\n",
       "      <td>0.511286</td>\n",
       "      <td>1.000000</td>\n",
       "      <td>0.955895</td>\n",
       "    </tr>\n",
       "    <tr>\n",
       "      <th>gpa</th>\n",
       "      <td>0.502907</td>\n",
       "      <td>0.955895</td>\n",
       "      <td>1.000000</td>\n",
       "    </tr>\n",
       "  </tbody>\n",
       "</table>\n",
       "</div>"
      ],
      "text/plain": [
       "           height   friends       gpa\n",
       "height   1.000000  0.511286  0.502907\n",
       "friends  0.511286  1.000000  0.955895\n",
       "gpa      0.502907  0.955895  1.000000"
      ]
     },
     "execution_count": 13,
     "metadata": {},
     "output_type": "execute_result"
    }
   ],
   "source": [
    "people.corr()"
   ]
  },
  {
   "cell_type": "code",
   "execution_count": 19,
   "id": "31a2d36f",
   "metadata": {},
   "outputs": [
    {
     "data": {
      "image/png": "[encoded data removed]",
      "text/plain": [
       "<Figure size 432x288 with 1 Axes>"
      ]
     },
     "metadata": {
      "needs_background": "light"
     },
     "output_type": "display_data"
    }
   ],
   "source": [
    "import seaborn as sns\n",
    "sns.scatterplot(data = people, x = \"friends\", y = \"height\", hue= 'shoes').grid()"
   ]
  },
  {
   "cell_type": "code",
   "execution_count": 17,
   "id": "2a9b8b2a",
   "metadata": {},
   "outputs": [
    {
     "data": {
      "text/plain": [
       "<AxesSubplot:xlabel='friends', ylabel='height'>"
      ]
     },
     "execution_count": 17,
     "metadata": {},
     "output_type": "execute_result"
    },
    {
     "data": {
      "image/png": "[encoded data removed]",
      "text/plain": [
       "<Figure size 432x288 with 1 Axes>"
      ]
     },
     "metadata": {
      "needs_background": "light"
     },
     "output_type": "display_data"
    }
   ],
   "source": [
    "sns.regplot(data = people, x = \"friends\", y = \"height\")"
   ]
  },
  {
   "cell_type": "code",
   "execution_count": 20,
   "id": "258d60b0",
   "metadata": {},
   "outputs": [
    {
     "data": {
      "text/plain": [
       "<seaborn.axisgrid.FacetGrid at 0x7f91b0902a00>"
      ]
     },
     "execution_count": 20,
     "metadata": {},
     "output_type": "execute_result"
    },
    {
     "data": {
      "image/png": "[encoded data removed]",
      "text/plain": [
       "<Figure size 440.75x360 with 1 Axes>"
      ]
     },
     "metadata": {
      "needs_background": "light"
     },
     "output_type": "display_data"
    }
   ],
   "source": [
    "sns.lmplot(data = people, x = \"friends\", y = \"height\", hue= 'shoes')"
   ]
  },
  {
   "cell_type": "code",
   "execution_count": null,
   "id": "f8dae54c",
   "metadata": {},
   "outputs": [],
   "source": []
  }
 ],
 "metadata": {
  "kernelspec": {
   "display_name": "Python 3 (ipykernel)",
   "language": "python",
   "name": "python3"
  },
  "language_info": {
   "codemirror_mode": {
    "name": "ipython",
    "version": 3
   },
   "file_extension": ".py",
   "mimetype": "text/x-python",
   "name": "python",
   "nbconvert_exporter": "python",
   "pygments_lexer": "ipython3",
   "version": "3.9.12"
  }
 },
 "nbformat": 4,
 "nbformat_minor": 5
}
