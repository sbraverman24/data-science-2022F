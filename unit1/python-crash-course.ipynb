{
 "cells": [
  {
   "cell_type": "markdown",
   "id": "f997aa3d",
   "metadata": {},
   "source": [
    "# Python Crash Course\n",
    "\n",
    "Haiku:\n",
    "#### my windshield is fogged\n",
    "## *I want to go back to sleep*\n",
    "### **I need to eat food**\n",
    "\n",
    "\n",
    "> grilled cheese is the best APH food\n"
   ]
  },
  {
   "cell_type": "markdown",
   "id": "b520fcb7",
   "metadata": {},
   "source": []
  },
  {
   "cell_type": "code",
   "execution_count": null,
   "id": "f6fba4ea",
   "metadata": {},
   "outputs": [],
   "source": []
  }
 ],
 "metadata": {
  "kernelspec": {
   "display_name": "Python 3 (ipykernel)",
   "language": "python",
   "name": "python3"
  },
  "language_info": {
   "codemirror_mode": {
    "name": "ipython",
    "version": 3
   },
   "file_extension": ".py",
   "mimetype": "text/x-python",
   "name": "python",
   "nbconvert_exporter": "python",
   "pygments_lexer": "ipython3",
   "version": "3.9.12"
  }
 },
 "nbformat": 4,
 "nbformat_minor": 5
}
