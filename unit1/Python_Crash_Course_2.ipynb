{
 "cells": [
  {
   "cell_type": "markdown",
   "id": "d1935c65",
   "metadata": {},
   "source": [
    "# Booleans"
   ]
  },
  {
   "cell_type": "code",
   "execution_count": 2,
   "id": "2cd5b065",
   "metadata": {},
   "outputs": [
    {
     "name": "stdout",
     "output_type": "stream",
     "text": [
      "True\n"
     ]
    }
   ],
   "source": [
    "print(30<1000000000000)"
   ]
  },
  {
   "cell_type": "markdown",
   "id": "f18a98e1",
   "metadata": {},
   "source": [
    "# Operators\n"
   ]
  },
  {
   "cell_type": "code",
   "execution_count": 3,
   "id": "0fd0d406",
   "metadata": {},
   "outputs": [
    {
     "name": "stdout",
     "output_type": "stream",
     "text": [
      "20\n"
     ]
    },
    {
     "data": {
      "text/plain": [
       "True"
      ]
     },
     "execution_count": 3,
     "metadata": {},
     "output_type": "execute_result"
    }
   ],
   "source": [
    "age = 16\n",
    "\n",
    "age += 4\n",
    "print(age)\n",
    "\n",
    "age!= 12\n",
    "\n"
   ]
  },
  {
   "cell_type": "code",
   "execution_count": 4,
   "id": "15e8fea0",
   "metadata": {},
   "outputs": [
    {
     "data": {
      "text/plain": [
       "True"
      ]
     },
     "execution_count": 4,
     "metadata": {},
     "output_type": "execute_result"
    }
   ],
   "source": [
    "12 < age < 24"
   ]
  },
  {
   "cell_type": "markdown",
   "id": "4d063a4e",
   "metadata": {},
   "source": [
    "# Collections"
   ]
  },
  {
   "cell_type": "markdown",
   "id": "023b000f",
   "metadata": {},
   "source": [
    "## Lists"
   ]
  },
  {
   "cell_type": "code",
   "execution_count": 5,
   "id": "64515143",
   "metadata": {},
   "outputs": [],
   "source": [
    "courses = [\"Data Science\", \"Spanish\", \"Calc\", \"Gender Studies\", \"Global lit\", \"Global History\", \"Chem\"]"
   ]
  },
  {
   "cell_type": "markdown",
   "id": "2c8bb977",
   "metadata": {},
   "source": [
    "### Accessing Items"
   ]
  },
  {
   "cell_type": "code",
   "execution_count": 6,
   "id": "03b1f94e",
   "metadata": {},
   "outputs": [
    {
     "name": "stdout",
     "output_type": "stream",
     "text": [
      "Spanish\n"
     ]
    }
   ],
   "source": [
    "print(courses[1])"
   ]
  },
  {
   "cell_type": "markdown",
   "id": "3fddaeb5",
   "metadata": {},
   "source": [
    "### Changing Items"
   ]
  },
  {
   "cell_type": "code",
   "execution_count": 15,
   "id": "1d21c05c",
   "metadata": {},
   "outputs": [],
   "source": [
    "courses[2] = \"nice easy math\""
   ]
  },
  {
   "cell_type": "code",
   "execution_count": 8,
   "id": "d7cca173",
   "metadata": {},
   "outputs": [
    {
     "name": "stdout",
     "output_type": "stream",
     "text": [
      "['Data Science', 'Spanish', 'nice easy math', 'Gender Studies', 'Global lit', 'Global History', 'Chem']\n"
     ]
    }
   ],
   "source": [
    "print(courses)"
   ]
  },
  {
   "cell_type": "markdown",
   "id": "734bff7b",
   "metadata": {},
   "source": []
  },
  {
   "cell_type": "markdown",
   "id": "e6267747",
   "metadata": {},
   "source": [
    "### Accessing a Range of Items"
   ]
  },
  {
   "cell_type": "code",
   "execution_count": 11,
   "id": "f6f3b1de",
   "metadata": {},
   "outputs": [
    {
     "name": "stdout",
     "output_type": "stream",
     "text": [
      "['Data Science', 'Spanish']\n"
     ]
    }
   ],
   "source": [
    "print(courses[0:2])"
   ]
  },
  {
   "cell_type": "markdown",
   "id": "8af3d27d",
   "metadata": {},
   "source": [
    "### Adding to a List"
   ]
  },
  {
   "cell_type": "code",
   "execution_count": 12,
   "id": "be030453",
   "metadata": {},
   "outputs": [],
   "source": [
    "courses.append(\"another nice friendly low stress course\")"
   ]
  },
  {
   "cell_type": "code",
   "execution_count": 14,
   "id": "85cdf662",
   "metadata": {},
   "outputs": [
    {
     "name": "stdout",
     "output_type": "stream",
     "text": [
      "['Data Science', 'Spanish', 'nice easy math', 'Gender Studies', 'Global lit', 'Global History', 'Chem', 'another nice friendly low stress course']\n"
     ]
    }
   ],
   "source": [
    "print(courses)"
   ]
  },
  {
   "cell_type": "markdown",
   "id": "2358e0df",
   "metadata": {},
   "source": [
    "### Inserting into a List"
   ]
  },
  {
   "cell_type": "code",
   "execution_count": 16,
   "id": "41b9c077",
   "metadata": {},
   "outputs": [],
   "source": [
    "courses.insert(2, \"Catch up on Sleep Class\")"
   ]
  },
  {
   "cell_type": "code",
   "execution_count": 18,
   "id": "db1c6c55",
   "metadata": {},
   "outputs": [
    {
     "name": "stdout",
     "output_type": "stream",
     "text": [
      "['Data Science', 'Spanish', 'Catch up on Sleep Class', 'nice easy math', 'Gender Studies', 'Global lit', 'Global History', 'Chem', 'another nice friendly low stress course']\n"
     ]
    }
   ],
   "source": [
    "print(courses)"
   ]
  },
  {
   "cell_type": "code",
   "execution_count": 20,
   "id": "c65a2149",
   "metadata": {},
   "outputs": [
    {
     "data": {
      "text/plain": [
       "'Data Science'"
      ]
     },
     "execution_count": 20,
     "metadata": {},
     "output_type": "execute_result"
    }
   ],
   "source": [
    "courses.pop(0)"
   ]
  },
  {
   "cell_type": "code",
   "execution_count": 21,
   "id": "5949ea83",
   "metadata": {},
   "outputs": [
    {
     "name": "stdout",
     "output_type": "stream",
     "text": [
      "['Spanish', 'Catch up on Sleep Class', 'nice easy math', 'Gender Studies', 'Global lit', 'Global History', 'Chem', 'another nice friendly low stress course']\n"
     ]
    }
   ],
   "source": [
    "print(courses)"
   ]
  },
  {
   "cell_type": "markdown",
   "id": "f617aa7c",
   "metadata": {},
   "source": [
    "### List Looping"
   ]
  },
  {
   "cell_type": "code",
   "execution_count": 22,
   "id": "0b5b8a5c",
   "metadata": {},
   "outputs": [
    {
     "name": "stdout",
     "output_type": "stream",
     "text": [
      "Spanish\n",
      "Catch up on Sleep Class\n",
      "nice easy math\n",
      "Gender Studies\n",
      "Global lit\n",
      "Global History\n",
      "Chem\n",
      "another nice friendly low stress course\n"
     ]
    }
   ],
   "source": [
    "for x in courses:\n",
    "    print(x)"
   ]
  },
  {
   "cell_type": "markdown",
   "id": "4a9da652",
   "metadata": {},
   "source": [
    "### Sorting a List"
   ]
  },
  {
   "cell_type": "code",
   "execution_count": 23,
   "id": "fb270a9e",
   "metadata": {},
   "outputs": [
    {
     "name": "stdout",
     "output_type": "stream",
     "text": [
      "['Catch up on Sleep Class', 'Chem', 'Gender Studies', 'Global History', 'Global lit', 'Spanish', 'another nice friendly low stress course', 'nice easy math']\n"
     ]
    }
   ],
   "source": [
    "courses.sort()\n",
    "print(courses)"
   ]
  },
  {
   "cell_type": "markdown",
   "id": "59093d1e",
   "metadata": {},
   "source": [
    "### Copying a List"
   ]
  },
  {
   "cell_type": "code",
   "execution_count": 31,
   "id": "2a2ac456",
   "metadata": {},
   "outputs": [
    {
     "name": "stdout",
     "output_type": "stream",
     "text": [
      "Catch up on Sleep Class\n",
      "another nice friendly low stress course\n",
      "nice easy math\n",
      "\n",
      "Catch up on Sleep Class\n",
      "Chem\n",
      "Gender Studies\n",
      "Global History\n",
      "Global lit\n",
      "Spanish\n",
      "another nice friendly low stress course\n",
      "nice easy math\n"
     ]
    }
   ],
   "source": [
    "subjects = courses.copy()\n",
    "\n",
    "del subjects [1:6]\n",
    "\n",
    "for f in subjects:\n",
    "    print(f)\n",
    "    \n",
    "print(\"\")\n",
    "\n",
    "for g in courses:\n",
    "    print(g)"
   ]
  },
  {
   "cell_type": "markdown",
   "id": "bd9fde1b",
   "metadata": {},
   "source": [
    "### Other List Methods"
   ]
  },
  {
   "cell_type": "code",
   "execution_count": 34,
   "id": "c183e38e",
   "metadata": {},
   "outputs": [
    {
     "name": "stdout",
     "output_type": "stream",
     "text": [
      "['Catch up on Sleep Class', 'Chem', 'Gender Studies', 'Global History', 'Global lit', 'Spanish', 'another nice friendly low stress course', 'nice easy math']\n"
     ]
    }
   ],
   "source": [
    "courses.reverse()\n",
    "\n",
    "print(courses)"
   ]
  },
  {
   "cell_type": "markdown",
   "id": "7b479865",
   "metadata": {},
   "source": [
    "# Tuples"
   ]
  },
  {
   "cell_type": "code",
   "execution_count": 35,
   "id": "ae3e1bdb",
   "metadata": {},
   "outputs": [],
   "source": [
    "days_of_week = (\"Sunday\", \"Monday\", \"Tuesday\", \"Wednesday\", \"Thursday\", \"Friday\", \"Saturday\")"
   ]
  },
  {
   "cell_type": "code",
   "execution_count": 36,
   "id": "df60687a",
   "metadata": {},
   "outputs": [
    {
     "name": "stdout",
     "output_type": "stream",
     "text": [
      "('Sunday', 'Monday', 'Tuesday', 'Wednesday', 'Thursday', 'Friday', 'Saturday')\n"
     ]
    }
   ],
   "source": [
    "print(days_of_week)"
   ]
  },
  {
   "cell_type": "markdown",
   "id": "473db924",
   "metadata": {},
   "source": [
    "# Sets"
   ]
  },
  {
   "cell_type": "code",
   "execution_count": 40,
   "id": "8adf62b4",
   "metadata": {},
   "outputs": [
    {
     "name": "stdout",
     "output_type": "stream",
     "text": [
      "cherry\n",
      "banana\n",
      "strawberry\n",
      "apple\n",
      "\n",
      "True\n"
     ]
    }
   ],
   "source": [
    "types_of_fruit = {\"apple\", \"banana\", \"cherry\"}\n",
    "\n",
    "types_of_fruit.add(\"strawberry\")\n",
    "\n",
    "for d in types_of_fruit:\n",
    "    print(d)\n",
    "    \n",
    "print(\"\")    \n",
    "\n",
    "print(\"banana\" in types_of_fruit)"
   ]
  },
  {
   "cell_type": "code",
   "execution_count": null,
   "id": "ca3c5efa",
   "metadata": {},
   "outputs": [],
   "source": []
  }
 ],
 "metadata": {
  "kernelspec": {
   "display_name": "Python 3 (ipykernel)",
   "language": "python",
   "name": "python3"
  },
  "language_info": {
   "codemirror_mode": {
    "name": "ipython",
    "version": 3
   },
   "file_extension": ".py",
   "mimetype": "text/x-python",
   "name": "python",
   "nbconvert_exporter": "python",
   "pygments_lexer": "ipython3",
   "version": "3.9.12"
  }
 },
 "nbformat": 4,
 "nbformat_minor": 5
}
