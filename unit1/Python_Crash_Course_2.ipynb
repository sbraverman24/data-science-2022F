{
 "cells": [
  {
   "cell_type": "markdown",
   "id": "d1935c65",
   "metadata": {},
   "source": [
    "# Booleans"
   ]
  },
  {
   "cell_type": "code",
   "execution_count": 1,
   "id": "2cd5b065",
   "metadata": {},
   "outputs": [
    {
     "name": "stdout",
     "output_type": "stream",
     "text": [
      "True\n"
     ]
    }
   ],
   "source": [
    "print(30<1000000000000)"
   ]
  },
  {
   "cell_type": "markdown",
   "id": "f18a98e1",
   "metadata": {},
   "source": [
    "# Operators\n"
   ]
  },
  {
   "cell_type": "code",
   "execution_count": 18,
   "id": "0fd0d406",
   "metadata": {},
   "outputs": [
    {
     "name": "stdout",
     "output_type": "stream",
     "text": [
      "20\n"
     ]
    },
    {
     "data": {
      "text/plain": [
       "True"
      ]
     },
     "execution_count": 18,
     "metadata": {},
     "output_type": "execute_result"
    }
   ],
   "source": [
    "age = 16\n",
    "\n",
    "age += 4\n",
    "print(age)\n",
    "\n",
    "age!= 12\n",
    "\n"
   ]
  },
  {
   "cell_type": "code",
   "execution_count": 19,
   "id": "15e8fea0",
   "metadata": {},
   "outputs": [
    {
     "data": {
      "text/plain": [
       "True"
      ]
     },
     "execution_count": 19,
     "metadata": {},
     "output_type": "execute_result"
    }
   ],
   "source": [
    "12 < age < 24"
   ]
  },
  {
   "cell_type": "markdown",
   "id": "4d063a4e",
   "metadata": {},
   "source": [
    "# Collections"
   ]
  },
  {
   "cell_type": "markdown",
   "id": "023b000f",
   "metadata": {},
   "source": [
    "## Lists"
   ]
  },
  {
   "cell_type": "code",
   "execution_count": 21,
   "id": "64515143",
   "metadata": {},
   "outputs": [],
   "source": [
    "courses = [\"Data Science\", \"Spanish\", \"Calc\", \"Gender Studies\", \"Global lit\", \"Global History\", \"Chem\"]"
   ]
  },
  {
   "cell_type": "code",
   "execution_count": 22,
   "id": "03b1f94e",
   "metadata": {},
   "outputs": [
    {
     "name": "stdout",
     "output_type": "stream",
     "text": [
      "Spanish\n"
     ]
    }
   ],
   "source": [
    "print(courses[1])"
   ]
  },
  {
   "cell_type": "code",
   "execution_count": 25,
   "id": "1d21c05c",
   "metadata": {},
   "outputs": [],
   "source": [
    "courses[2] = \"nice easy math\""
   ]
  },
  {
   "cell_type": "code",
   "execution_count": 26,
   "id": "d7cca173",
   "metadata": {},
   "outputs": [
    {
     "name": "stdout",
     "output_type": "stream",
     "text": [
      "['Data Science', 'Spanish', 'nice easy math', 'Gender Studies', 'Global lit', 'Global History', 'Chem']\n"
     ]
    }
   ],
   "source": [
    "print(courses)"
   ]
  },
  {
   "cell_type": "markdown",
   "id": "734bff7b",
   "metadata": {},
   "source": [
    "# Stopped at Accessing a Range of Items"
   ]
  },
  {
   "cell_type": "code",
   "execution_count": null,
   "id": "f6f3b1de",
   "metadata": {},
   "outputs": [],
   "source": []
  }
 ],
 "metadata": {
  "kernelspec": {
   "display_name": "Python 3 (ipykernel)",
   "language": "python",
   "name": "python3"
  },
  "language_info": {
   "codemirror_mode": {
    "name": "ipython",
    "version": 3
   },
   "file_extension": ".py",
   "mimetype": "text/x-python",
   "name": "python",
   "nbconvert_exporter": "python",
   "pygments_lexer": "ipython3",
   "version": "3.9.12"
  }
 },
 "nbformat": 4,
 "nbformat_minor": 5
}
