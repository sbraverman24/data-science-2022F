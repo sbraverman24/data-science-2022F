{
 "cells": [
  {
   "cell_type": "markdown",
   "id": "d1935c65",
   "metadata": {},
   "source": [
    "# Booleans"
   ]
  },
  {
   "cell_type": "code",
   "execution_count": 2,
   "id": "2cd5b065",
   "metadata": {},
   "outputs": [
    {
     "name": "stdout",
     "output_type": "stream",
     "text": [
      "True\n"
     ]
    }
   ],
   "source": [
    "print(30<1000000000000)"
   ]
  },
  {
   "cell_type": "markdown",
   "id": "f18a98e1",
   "metadata": {},
   "source": [
    "# Operators\n"
   ]
  },
  {
   "cell_type": "code",
   "execution_count": 3,
   "id": "0fd0d406",
   "metadata": {},
   "outputs": [
    {
     "name": "stdout",
     "output_type": "stream",
     "text": [
      "20\n"
     ]
    },
    {
     "data": {
      "text/plain": [
       "True"
      ]
     },
     "execution_count": 3,
     "metadata": {},
     "output_type": "execute_result"
    }
   ],
   "source": [
    "age = 16\n",
    "\n",
    "age += 4\n",
    "print(age)\n",
    "\n",
    "age!= 12\n",
    "\n"
   ]
  },
  {
   "cell_type": "code",
   "execution_count": 4,
   "id": "15e8fea0",
   "metadata": {},
   "outputs": [
    {
     "data": {
      "text/plain": [
       "True"
      ]
     },
     "execution_count": 4,
     "metadata": {},
     "output_type": "execute_result"
    }
   ],
   "source": [
    "12 < age < 24"
   ]
  },
  {
   "cell_type": "markdown",
   "id": "4d063a4e",
   "metadata": {},
   "source": [
    "# Collections"
   ]
  },
  {
   "cell_type": "markdown",
   "id": "023b000f",
   "metadata": {},
   "source": [
    "## Lists"
   ]
  },
  {
   "cell_type": "code",
   "execution_count": 5,
   "id": "64515143",
   "metadata": {},
   "outputs": [],
   "source": [
    "courses = [\"Data Science\", \"Spanish\", \"Calc\", \"Gender Studies\", \"Global lit\", \"Global History\", \"Chem\"]"
   ]
  },
  {
   "cell_type": "markdown",
   "id": "0ccdfc51",
   "metadata": {},
   "source": [
    "### Accessing Items"
   ]
  },
  {
   "cell_type": "code",
   "execution_count": 6,
   "id": "03b1f94e",
   "metadata": {},
   "outputs": [
    {
     "name": "stdout",
     "output_type": "stream",
     "text": [
      "Spanish\n"
     ]
    }
   ],
   "source": [
    "print(courses[1])"
   ]
  },
  {
   "cell_type": "markdown",
   "id": "41883de7",
   "metadata": {},
   "source": [
    "### Changing Items"
   ]
  },
  {
   "cell_type": "code",
   "execution_count": 15,
   "id": "1d21c05c",
   "metadata": {},
   "outputs": [],
   "source": [
    "courses[2] = \"nice easy math\""
   ]
  },
  {
   "cell_type": "code",
   "execution_count": 8,
   "id": "d7cca173",
   "metadata": {},
   "outputs": [
    {
     "name": "stdout",
     "output_type": "stream",
     "text": [
      "['Data Science', 'Spanish', 'nice easy math', 'Gender Studies', 'Global lit', 'Global History', 'Chem']\n"
     ]
    }
   ],
   "source": [
    "print(courses)"
   ]
  },
  {
   "cell_type": "markdown",
   "id": "734bff7b",
   "metadata": {},
   "source": []
  },
  {
   "cell_type": "markdown",
   "id": "586f41e4",
   "metadata": {},
   "source": [
    "### Accessing a Range of Items"
   ]
  },
  {
   "cell_type": "code",
   "execution_count": 11,
   "id": "f6f3b1de",
   "metadata": {},
   "outputs": [
    {
     "name": "stdout",
     "output_type": "stream",
     "text": [
      "['Data Science', 'Spanish']\n"
     ]
    }
   ],
   "source": [
    "print(courses[0:2])"
   ]
  },
  {
   "cell_type": "markdown",
   "id": "45924111",
   "metadata": {},
   "source": [
    "### Adding to a List"
   ]
  },
  {
   "cell_type": "code",
   "execution_count": 12,
   "id": "64562a00",
   "metadata": {},
   "outputs": [],
   "source": [
    "courses.append(\"another nice friendly low stress course\")"
   ]
  },
  {
   "cell_type": "code",
   "execution_count": 14,
   "id": "da9bb11d",
   "metadata": {},
   "outputs": [
    {
     "name": "stdout",
     "output_type": "stream",
     "text": [
      "['Data Science', 'Spanish', 'nice easy math', 'Gender Studies', 'Global lit', 'Global History', 'Chem', 'another nice friendly low stress course']\n"
     ]
    }
   ],
   "source": [
    "print(courses)"
   ]
  },
  {
   "cell_type": "markdown",
   "id": "7fdafdfe",
   "metadata": {},
   "source": [
    "### Inserting into a List"
   ]
  },
  {
   "cell_type": "code",
   "execution_count": 16,
   "id": "167f8d7c",
   "metadata": {},
   "outputs": [],
   "source": [
    "courses.insert(2, \"Catch up on Sleep Class\")"
   ]
  },
  {
   "cell_type": "code",
   "execution_count": 18,
   "id": "ca97964e",
   "metadata": {},
   "outputs": [
    {
     "name": "stdout",
     "output_type": "stream",
     "text": [
      "['Data Science', 'Spanish', 'Catch up on Sleep Class', 'nice easy math', 'Gender Studies', 'Global lit', 'Global History', 'Chem', 'another nice friendly low stress course']\n"
     ]
    }
   ],
   "source": [
    "print(courses)"
   ]
  },
  {
   "cell_type": "code",
   "execution_count": 20,
   "id": "f937b5ad",
   "metadata": {},
   "outputs": [
    {
     "data": {
      "text/plain": [
       "'Data Science'"
      ]
     },
     "execution_count": 20,
     "metadata": {},
     "output_type": "execute_result"
    }
   ],
   "source": [
    "courses.pop(0)"
   ]
  },
  {
   "cell_type": "code",
   "execution_count": 21,
   "id": "d2830487",
   "metadata": {},
   "outputs": [
    {
     "name": "stdout",
     "output_type": "stream",
     "text": [
      "['Spanish', 'Catch up on Sleep Class', 'nice easy math', 'Gender Studies', 'Global lit', 'Global History', 'Chem', 'another nice friendly low stress course']\n"
     ]
    }
   ],
   "source": [
    "print(courses)"
   ]
  },
  {
   "cell_type": "markdown",
   "id": "06e78a61",
   "metadata": {},
   "source": [
    "### List Looping"
   ]
  },
  {
   "cell_type": "code",
   "execution_count": 22,
   "id": "e2e23802",
   "metadata": {},
   "outputs": [
    {
     "name": "stdout",
     "output_type": "stream",
     "text": [
      "Spanish\n",
      "Catch up on Sleep Class\n",
      "nice easy math\n",
      "Gender Studies\n",
      "Global lit\n",
      "Global History\n",
      "Chem\n",
      "another nice friendly low stress course\n"
     ]
    }
   ],
   "source": [
    "for x in courses:\n",
    "    print(x)"
   ]
  },
  {
   "cell_type": "markdown",
   "id": "b23a4154",
   "metadata": {},
   "source": [
    "### Sorting a List"
   ]
  },
  {
   "cell_type": "code",
   "execution_count": 23,
   "id": "646f393b",
   "metadata": {},
   "outputs": [
    {
     "name": "stdout",
     "output_type": "stream",
     "text": [
      "['Catch up on Sleep Class', 'Chem', 'Gender Studies', 'Global History', 'Global lit', 'Spanish', 'another nice friendly low stress course', 'nice easy math']\n"
     ]
    }
   ],
   "source": [
    "courses.sort()\n",
    "print(courses)"
   ]
  },
  {
   "cell_type": "markdown",
   "id": "66527134",
   "metadata": {},
   "source": [
    "### Copying a List"
   ]
  },
  {
   "cell_type": "code",
   "execution_count": 31,
   "id": "4d2367f8",
   "metadata": {},
   "outputs": [
    {
     "name": "stdout",
     "output_type": "stream",
     "text": [
      "Catch up on Sleep Class\n",
      "another nice friendly low stress course\n",
      "nice easy math\n",
      "\n",
      "Catch up on Sleep Class\n",
      "Chem\n",
      "Gender Studies\n",
      "Global History\n",
      "Global lit\n",
      "Spanish\n",
      "another nice friendly low stress course\n",
      "nice easy math\n"
     ]
    }
   ],
   "source": [
    "subjects = courses.copy()\n",
    "\n",
    "del subjects [1:6]\n",
    "\n",
    "for f in subjects:\n",
    "    print(f)\n",
    "    \n",
    "print(\"\")\n",
    "\n",
    "for g in courses:\n",
    "    print(g)"
   ]
  },
  {
   "cell_type": "markdown",
   "id": "5d77f538",
   "metadata": {},
   "source": [
    "### Other List Methods"
   ]
  },
  {
   "cell_type": "code",
   "execution_count": 34,
   "id": "a1cffda1",
   "metadata": {},
   "outputs": [
    {
     "name": "stdout",
     "output_type": "stream",
     "text": [
      "['Catch up on Sleep Class', 'Chem', 'Gender Studies', 'Global History', 'Global lit', 'Spanish', 'another nice friendly low stress course', 'nice easy math']\n"
     ]
    }
   ],
   "source": [
    "courses.reverse()\n",
    "\n",
    "print(courses)"
   ]
  },
  {
   "cell_type": "markdown",
   "id": "d743b999",
   "metadata": {},
   "source": [
    "# Tuples"
   ]
  },
  {
   "cell_type": "code",
   "execution_count": 35,
   "id": "f6722232",
   "metadata": {},
   "outputs": [],
   "source": [
    "days_of_week = (\"Sunday\", \"Monday\", \"Tuesday\", \"Wednesday\", \"Thursday\", \"Friday\", \"Saturday\")"
   ]
  },
  {
   "cell_type": "code",
   "execution_count": 36,
   "id": "e4f340c1",
   "metadata": {},
   "outputs": [
    {
     "name": "stdout",
     "output_type": "stream",
     "text": [
      "('Sunday', 'Monday', 'Tuesday', 'Wednesday', 'Thursday', 'Friday', 'Saturday')\n"
     ]
    }
   ],
   "source": [
    "print(days_of_week)"
   ]
  },
  {
   "cell_type": "markdown",
   "id": "0cd85203",
   "metadata": {},
   "source": [
    "# Sets"
   ]
  },
  {
   "cell_type": "code",
   "execution_count": 1,
   "id": "1a85f7f4",
   "metadata": {},
   "outputs": [
    {
     "name": "stdout",
     "output_type": "stream",
     "text": [
      "banana\n",
      "apple\n",
      "strawberry\n",
      "cherry\n",
      "\n",
      "True\n"
     ]
    }
   ],
   "source": [
    "types_of_fruit = {\"apple\", \"banana\", \"cherry\"}\n",
    "\n",
    "types_of_fruit.add(\"strawberry\")\n",
    "\n",
    "for d in types_of_fruit:\n",
    "    print(d)\n",
    "    \n",
    "print(\"\")    \n",
    "\n",
    "print(\"banana\" in types_of_fruit)"
   ]
  },
  {
   "cell_type": "markdown",
   "id": "76016901",
   "metadata": {},
   "source": [
    "# Dictionaries"
   ]
  },
  {
   "cell_type": "code",
   "execution_count": 6,
   "id": "d0ecded7",
   "metadata": {},
   "outputs": [
    {
     "name": "stdout",
     "output_type": "stream",
     "text": [
      "{'brand': 'Ford', 'model': 'Mustang', 'year': 1964, 'color': 'chartreuse'}\n"
     ]
    }
   ],
   "source": [
    "car1 = {\n",
    "    \"brand\": \"Ford\",\n",
    "    \"model\": \"Mustang\",\n",
    "    \"year\": 1964\n",
    "}\n",
    "\n",
    "car1.update({\"color\": \"chartreuse\"})\n",
    "\n",
    "print(car1)"
   ]
  },
  {
   "cell_type": "markdown",
   "id": "970b535c",
   "metadata": {},
   "source": [
    "### Looping Through Dictionaries"
   ]
  },
  {
   "cell_type": "code",
   "execution_count": 10,
   "id": "ad217fdb",
   "metadata": {},
   "outputs": [
    {
     "name": "stdout",
     "output_type": "stream",
     "text": [
      "brand\n",
      "model\n",
      "year\n",
      "color\n",
      "\n",
      "Ford\n",
      "Mustang\n",
      "1964\n",
      "chartreuse\n"
     ]
    }
   ],
   "source": [
    "for y in car1:\n",
    "    print(y)\n",
    "    \n",
    "print(\"\")\n",
    "\n",
    "for g in car1:\n",
    "    print(car1[g])"
   ]
  },
  {
   "cell_type": "code",
   "execution_count": 12,
   "id": "a11b6c7e",
   "metadata": {},
   "outputs": [
    {
     "name": "stdout",
     "output_type": "stream",
     "text": [
      "brand Ford\n",
      "model Mustang\n",
      "year 1964\n",
      "color chartreuse\n"
     ]
    }
   ],
   "source": [
    "for p,l in car1.items():\n",
    "    print(p,l)"
   ]
  },
  {
   "cell_type": "markdown",
   "id": "9b98fe48",
   "metadata": {},
   "source": [
    "# Loops"
   ]
  },
  {
   "cell_type": "code",
   "execution_count": 15,
   "id": "3c9e4fe7",
   "metadata": {},
   "outputs": [
    {
     "name": "stdout",
     "output_type": "stream",
     "text": [
      "13\n",
      "14\n",
      "15\n",
      "16\n",
      "17\n",
      "18\n",
      "19\n"
     ]
    }
   ],
   "source": [
    "for j in range(13,20):\n",
    "    print(j)"
   ]
  },
  {
   "cell_type": "markdown",
   "id": "5fb2f5b9",
   "metadata": {},
   "source": [
    "# Conditionals"
   ]
  },
  {
   "cell_type": "code",
   "execution_count": 23,
   "id": "d95c596a",
   "metadata": {},
   "outputs": [
    {
     "name": "stdout",
     "output_type": "stream",
     "text": [
      "A\n",
      "A\n"
     ]
    }
   ],
   "source": [
    "grade = 90\n",
    "\n",
    "if grade >= 90:\n",
    "    print(\"A\")\n",
    "\n",
    "else: \n",
    "    print(\"B\")\n",
    "    \n",
    "    \n",
    "print(\"A\") if grade >= 90 else print(\"B\")"
   ]
  },
  {
   "cell_type": "markdown",
   "id": "fdefb13f",
   "metadata": {},
   "source": [
    "# Functions"
   ]
  },
  {
   "cell_type": "code",
   "execution_count": 48,
   "id": "d50632bc",
   "metadata": {},
   "outputs": [
    {
     "data": {
      "text/plain": [
       "500000000000000000000000000000000000000000000007"
      ]
     },
     "execution_count": 48,
     "metadata": {},
     "output_type": "execute_result"
    }
   ],
   "source": [
    "def changer(x): \n",
    "    return x//2 + 7    \n",
    "    \n",
    "changer(1000000000000000000000000000000000000000000000000)\n"
   ]
  },
  {
   "cell_type": "code",
   "execution_count": 49,
   "id": "ea9be093",
   "metadata": {},
   "outputs": [
    {
     "data": {
      "text/plain": [
       "164923846367345677098633679677486284159872985767126987260846872986179864687746374"
      ]
     },
     "execution_count": 49,
     "metadata": {},
     "output_type": "execute_result"
    }
   ],
   "source": [
    "changer(329847692734691354197267359354972568319745971534253974521693745972359729375492735)"
   ]
  },
  {
   "cell_type": "code",
   "execution_count": 50,
   "id": "1d069ab3",
   "metadata": {},
   "outputs": [
    {
     "data": {
      "text/plain": [
       "5050505000050050500500000050500050005500500505000050057"
      ]
     },
     "execution_count": 50,
     "metadata": {},
     "output_type": "execute_result"
    }
   ],
   "source": [
    "changer(10101010000100101001000000101000100011001001010000100101)"
   ]
  },
  {
   "cell_type": "code",
   "execution_count": 52,
   "id": "f7669a0f",
   "metadata": {},
   "outputs": [
    {
     "data": {
      "text/plain": [
       "10"
      ]
     },
     "execution_count": 52,
     "metadata": {},
     "output_type": "execute_result"
    }
   ],
   "source": [
    "changer(6)"
   ]
  },
  {
   "cell_type": "code",
   "execution_count": 55,
   "id": "d8cf7799",
   "metadata": {},
   "outputs": [
    {
     "data": {
      "text/plain": [
       "33005005005005000000550000505505505005000000550500005550505055055500550055505550050055550050050555000500000050000550550000505505550005000000500500500500000055050000550000505550550055005050050000005500555055500500550500505505500055055000550050505500500005000000550005505505000055005050550050505550055055005050055562"
      ]
     },
     "execution_count": 55,
     "metadata": {},
     "output_type": "execute_result"
    }
   ],
   "source": [
    "changer(66010010010010000001100001011011010010000001101000011101010110111001100111011100100111100100101110001000000100001101100001011011100010000001001001001000000110100001100001011101100110010100100000011001110111001001101001011011000110110001100101011001000010000001100011011010000110010101100101011100110110010100111111 )"
   ]
  },
  {
   "cell_type": "code",
   "execution_count": null,
   "id": "54b7d01c",
   "metadata": {},
   "outputs": [],
   "source": []
  }
 ],
 "metadata": {
  "kernelspec": {
   "display_name": "Python 3 (ipykernel)",
   "language": "python",
   "name": "python3"
  },
  "language_info": {
   "codemirror_mode": {
    "name": "ipython",
    "version": 3
   },
   "file_extension": ".py",
   "mimetype": "text/x-python",
   "name": "python",
   "nbconvert_exporter": "python",
   "pygments_lexer": "ipython3",
   "version": "3.9.12"
  }
 },
 "nbformat": 4,
 "nbformat_minor": 5
}
