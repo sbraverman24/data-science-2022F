{
 "cells": [
  {
   "cell_type": "code",
   "execution_count": 3,
   "id": "63c06df4",
   "metadata": {},
   "outputs": [
    {
     "data": {
      "text/html": [
       "<div>\n",
       "<style scoped>\n",
       "    .dataframe tbody tr th:only-of-type {\n",
       "        vertical-align: middle;\n",
       "    }\n",
       "\n",
       "    .dataframe tbody tr th {\n",
       "        vertical-align: top;\n",
       "    }\n",
       "\n",
       "    .dataframe thead th {\n",
       "        text-align: right;\n",
       "    }\n",
       "</style>\n",
       "<table border=\"1\" class=\"dataframe\">\n",
       "  <thead>\n",
       "    <tr style=\"text-align: right;\">\n",
       "      <th></th>\n",
       "      <th>name</th>\n",
       "      <th>height</th>\n",
       "      <th>friends</th>\n",
       "      <th>gpa</th>\n",
       "      <th>sport</th>\n",
       "      <th>shoes</th>\n",
       "    </tr>\n",
       "  </thead>\n",
       "  <tbody>\n",
       "    <tr>\n",
       "      <th>0</th>\n",
       "      <td>dakota</td>\n",
       "      <td>72</td>\n",
       "      <td>307</td>\n",
       "      <td>3.15</td>\n",
       "      <td>basketball</td>\n",
       "      <td>sneakers</td>\n",
       "    </tr>\n",
       "    <tr>\n",
       "      <th>1</th>\n",
       "      <td>hayden</td>\n",
       "      <td>68</td>\n",
       "      <td>335</td>\n",
       "      <td>3.50</td>\n",
       "      <td>tennis</td>\n",
       "      <td>flip-flops</td>\n",
       "    </tr>\n",
       "    <tr>\n",
       "      <th>2</th>\n",
       "      <td>charlie</td>\n",
       "      <td>61</td>\n",
       "      <td>34</td>\n",
       "      <td>1.10</td>\n",
       "      <td>baseball</td>\n",
       "      <td>flip-flops</td>\n",
       "    </tr>\n",
       "    <tr>\n",
       "      <th>3</th>\n",
       "      <td>kamryn</td>\n",
       "      <td>66</td>\n",
       "      <td>200</td>\n",
       "      <td>2.18</td>\n",
       "      <td>soccer</td>\n",
       "      <td>sneakers</td>\n",
       "    </tr>\n",
       "    <tr>\n",
       "      <th>4</th>\n",
       "      <td>emerson</td>\n",
       "      <td>65</td>\n",
       "      <td>213</td>\n",
       "      <td>3.06</td>\n",
       "      <td>soccer</td>\n",
       "      <td>sneakers</td>\n",
       "    </tr>\n",
       "    <tr>\n",
       "      <th>5</th>\n",
       "      <td>jessie</td>\n",
       "      <td>61</td>\n",
       "      <td>202</td>\n",
       "      <td>2.41</td>\n",
       "      <td>basketball</td>\n",
       "      <td>flip-flops</td>\n",
       "    </tr>\n",
       "    <tr>\n",
       "      <th>6</th>\n",
       "      <td>sawyer</td>\n",
       "      <td>67</td>\n",
       "      <td>314</td>\n",
       "      <td>2.96</td>\n",
       "      <td>tennis</td>\n",
       "      <td>flip-flops</td>\n",
       "    </tr>\n",
       "    <tr>\n",
       "      <th>7</th>\n",
       "      <td>london</td>\n",
       "      <td>64</td>\n",
       "      <td>436</td>\n",
       "      <td>3.98</td>\n",
       "      <td>soccer</td>\n",
       "      <td>sneakers</td>\n",
       "    </tr>\n",
       "  </tbody>\n",
       "</table>\n",
       "</div>"
      ],
      "text/plain": [
       "      name  height  friends   gpa       sport       shoes\n",
       "0   dakota      72      307  3.15  basketball    sneakers\n",
       "1   hayden      68      335  3.50      tennis  flip-flops\n",
       "2  charlie      61       34  1.10    baseball  flip-flops\n",
       "3   kamryn      66      200  2.18      soccer    sneakers\n",
       "4  emerson      65      213  3.06      soccer    sneakers\n",
       "5   jessie      61      202  2.41  basketball  flip-flops\n",
       "6   sawyer      67      314  2.96      tennis  flip-flops\n",
       "7   london      64      436  3.98      soccer    sneakers"
      ]
     },
     "execution_count": 3,
     "metadata": {},
     "output_type": "execute_result"
    }
   ],
   "source": [
    "import pandas as pd\n",
    "import seaborn as sns\n",
    "\n",
    "people = pd.read_csv(\"people.csv\")\n",
    "people"
   ]
  },
  {
   "cell_type": "code",
   "execution_count": 8,
   "id": "4064b861",
   "metadata": {},
   "outputs": [
    {
     "data": {
      "text/plain": [
       "<AxesSubplot:xlabel='gpa', ylabel='friends'>"
      ]
     },
     "execution_count": 8,
     "metadata": {},
     "output_type": "execute_result"
    },
    {
     "data": {
      "image/png": "[encoded data removed]",
      "text/plain": [
       "<Figure size 432x288 with 1 Axes>"
      ]
     },
     "metadata": {},
     "output_type": "display_data"
    }
   ],
   "source": [
    "sns.set_style(\"whitegrid\")\n",
    "sns.regplot(data = people, x = \"gpa\", y = \"friends\")"
   ]
  },
  {
   "cell_type": "code",
   "execution_count": 9,
   "id": "d1d69ac7",
   "metadata": {},
   "outputs": [],
   "source": [
    "from sklearn.linear_model import LinearRegression"
   ]
  },
  {
   "cell_type": "code",
   "execution_count": 20,
   "id": "7ec7cbd9",
   "metadata": {},
   "outputs": [
    {
     "data": {
      "text/plain": [
       "0.9137344895912347"
      ]
     },
     "execution_count": 20,
     "metadata": {},
     "output_type": "execute_result"
    }
   ],
   "source": [
    "X = people.gpa.values.reshape(-1,1)\n",
    "y = people.friends.values.reshape(-1,1)\n",
    "\n",
    "model = LinearRegression().fit(X,y)\n",
    "\n",
    "model.score(X,y)\n",
    "#This means that it's a pretty good predictor"
   ]
  },
  {
   "cell_type": "code",
   "execution_count": 21,
   "id": "d64f5f5d",
   "metadata": {},
   "outputs": [
    {
     "data": {
      "text/plain": [
       "array([[152.29539386]])"
      ]
     },
     "execution_count": 21,
     "metadata": {},
     "output_type": "execute_result"
    }
   ],
   "source": [
    "model.predict([[2.0]])"
   ]
  },
  {
   "cell_type": "code",
   "execution_count": null,
   "id": "d41e8e03",
   "metadata": {},
   "outputs": [],
   "source": []
  }
 ],
 "metadata": {
  "kernelspec": {
   "display_name": "Python 3 (ipykernel)",
   "language": "python",
   "name": "python3"
  },
  "language_info": {
   "codemirror_mode": {
    "name": "ipython",
    "version": 3
   },
   "file_extension": ".py",
   "mimetype": "text/x-python",
   "name": "python",
   "nbconvert_exporter": "python",
   "pygments_lexer": "ipython3",
   "version": "3.9.12"
  }
 },
 "nbformat": 4,
 "nbformat_minor": 5
}
