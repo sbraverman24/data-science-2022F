{
 "cells": [
  {
   "cell_type": "code",
   "execution_count": 13,
   "metadata": {},
   "outputs": [],
   "source": [
    "import pandas as pd\n",
    "from sklearn.model_selection import train_test_split\n",
    "from xgboost import XGBClassifier\n",
    "from sklearn.metrics import mean_absolute_error\n",
    "from sklearn.preprocessing import OneHotEncoder\n",
    "from sklearn.impute import SimpleImputer\n",
    "from sklearn.metrics import accuracy_score"
   ]
  },
  {
   "cell_type": "code",
   "execution_count": 16,
   "metadata": {},
   "outputs": [],
   "source": [
    "dtest = pd.read_csv(\"train.csv\")\n",
    "\n",
    "ftest = pd.read_csv(\"test.csv\")\n",
    "\n",
    "dtest.drop(\"Name\", axis=1, inplace = True)"
   ]
  },
  {
   "cell_type": "code",
   "execution_count": 17,
   "metadata": {},
   "outputs": [],
   "source": [
    "y = dtest.Transported\n",
    "features = ['PassengerId', 'HomePlanet', 'CryoSleep', 'Cabin', 'Destination', 'Age', 'VIP', 'RoomService', 'FoodCourt', 'ShoppingMall', 'Spa', 'VRDeck']\n",
    "object_cols = [col for col in X_train.columns if X_train[col].dtype == \"object\"]\n",
    "\n",
    "X = dtest[features]\n",
    "X2 = ftest[features]\n",
    "\n",
    "X_train, X_valid, y_train, y_valid = train_test_split(X,y)"
   ]
  },
  {
   "cell_type": "code",
   "execution_count": 18,
   "metadata": {},
   "outputs": [
    {
     "name": "stderr",
     "output_type": "stream",
     "text": [
      "/Users/sarahbraverman/opt/anaconda3/lib/python3.9/site-packages/sklearn/utils/validation.py:1688: FutureWarning: Feature names only support names that are all strings. Got feature names with dtypes: ['int', 'str']. An error will be raised in 1.2.\n",
      "  warnings.warn(\n",
      "/Users/sarahbraverman/opt/anaconda3/lib/python3.9/site-packages/sklearn/utils/validation.py:1688: FutureWarning: Feature names only support names that are all strings. Got feature names with dtypes: ['int', 'str']. An error will be raised in 1.2.\n",
      "  warnings.warn(\n",
      "/Users/sarahbraverman/opt/anaconda3/lib/python3.9/site-packages/sklearn/utils/validation.py:1688: FutureWarning: Feature names only support names that are all strings. Got feature names with dtypes: ['int', 'str']. An error will be raised in 1.2.\n",
      "  warnings.warn(\n",
      "/Users/sarahbraverman/opt/anaconda3/lib/python3.9/site-packages/sklearn/utils/validation.py:1688: FutureWarning: Feature names only support names that are all strings. Got feature names with dtypes: ['int', 'str']. An error will be raised in 1.2.\n",
      "  warnings.warn(\n"
     ]
    }
   ],
   "source": [
    "OHcols = [\"CryoSleep\", \"VIP\", \"Destination\", \"HomePlanet\"]\n",
    "\n",
    "cols2 = [\"Cabin\", \"PassengerId\"]\n",
    "dtest2 = dtest[cols2]\n",
    "OH_encoder = OneHotEncoder(handle_unknown='ignore', sparse=False)\n",
    "#Up here is changing the amount of rows\n",
    "OH_cols_train = pd.DataFrame(OH_encoder.fit_transform(X_train[OHcols]))\n",
    "OH_cols_valid = pd.DataFrame(OH_encoder.transform(X_valid[OHcols]))\n",
    "OH_cols_final = pd.DataFrame(OH_encoder.fit_transform(X2[OHcols]))\n",
    "\n",
    "\n",
    "# Putting index bacl\n",
    "OH_cols_train.index = X_train.index\n",
    "OH_cols_valid.index = X_valid.index\n",
    "OH_cols_final.index = X2.index\n",
    "\n",
    "# Removing previous columns\n",
    "num_X_train = X_train.drop(object_cols, axis=1)\n",
    "num_X_valid = X_valid.drop(object_cols, axis=1)\n",
    "num_final = X2.drop(object_cols, axis = 1)\n",
    "\n",
    "# Adding to other columns\n",
    "OH_X_train = pd.concat([num_X_train, OH_cols_train], axis=1)\n",
    "OH_X_valid = pd.concat([num_X_valid, OH_cols_valid], axis=1)\n",
    "OH_X_final = pd.concat([num_final, OH_cols_final], axis=1)\n",
    "# Imputing the numerical columns\n",
    "my_imputer = SimpleImputer()\n",
    "Mid_X_train = pd.DataFrame(my_imputer.fit_transform(OH_X_train))\n",
    "Mid_X_valid = pd.DataFrame(my_imputer.transform(OH_X_valid))\n",
    "Mid_final = pd.DataFrame(my_imputer.transform(OH_X_final))\n",
    "\n",
    "# Imputation removed column names; put them back\n",
    "Mid_X_train.columns = OH_X_train.columns\n",
    "Mid_X_valid.columns = OH_X_valid.columns\n",
    "Mid_final.columns = OH_X_final.columns\n"
   ]
  },
  {
   "cell_type": "code",
   "execution_count": 21,
   "metadata": {},
   "outputs": [
    {
     "name": "stdout",
     "output_type": "stream",
     "text": [
      "[10:08:35] WARNING: /var/folders/sy/f16zz6x50xz3113nwtb9bvq00000gp/T/abs_44tbtwf8c1/croots/recipe/xgboost-split_1659548960882/work/src/learner.cc:1115: Starting in XGBoost 1.3.0, the default evaluation metric used with the objective 'binary:logistic' was changed from 'error' to 'logloss'. Explicitly set eval_metric if you'd like to restore the old behavior.\n"
     ]
    },
    {
     "data": {
      "text/plain": [
       "XGBClassifier(base_score=0.5, booster='gbtree', colsample_bylevel=1,\n",
       "              colsample_bynode=1, colsample_bytree=1, enable_categorical=False,\n",
       "              gamma=0, gpu_id=-1, importance_type=None,\n",
       "              interaction_constraints='', learning_rate=0.300000012,\n",
       "              max_delta_step=0, max_depth=6, min_child_weight=1, missing=nan,\n",
       "              monotone_constraints='()', n_estimators=100, n_jobs=12,\n",
       "              num_parallel_tree=1, predictor='auto', random_state=0,\n",
       "              reg_alpha=0, reg_lambda=1, scale_pos_weight=1, subsample=1,\n",
       "              tree_method='exact', validate_parameters=1, verbosity=None)"
      ]
     },
     "execution_count": 21,
     "metadata": {},
     "output_type": "execute_result"
    }
   ],
   "source": [
    "model = XGBClassifier()\n",
    "model.fit(Mid_X_train, y_train)"
   ]
  },
  {
   "cell_type": "code",
   "execution_count": 44,
   "metadata": {},
   "outputs": [
    {
     "name": "stderr",
     "output_type": "stream",
     "text": [
      "/Users/sarahbraverman/opt/anaconda3/lib/python3.9/site-packages/sklearn/utils/validation.py:1688: FutureWarning: Feature names only support names that are all strings. Got feature names with dtypes: ['int', 'str']. An error will be raised in 1.2.\n",
      "  warnings.warn(\n"
     ]
    }
   ],
   "source": [
    "preds_valid = model.predict(Mid_X_valid)\n",
    "\n",
    "# 4 is the best option for max_depth\n",
    "\n",
    "# for n in [0,1,2,3,4]:\n",
    "#     model = XGBClassifier(max_depth = 4, max_delta_step = n)\n",
    "#     model.fit(Mid_X_train, y_train)\n",
    "#     preds_valid = model.predict(Mid_X_valid)\n",
    "#     print(n, accuracy_score(y_valid, preds_valid))\n",
    "\n",
    "from sklearn.ensemble import GradientBoostingClassifier\n",
    "\n",
    "# for n in [4,5,6,7]:\n",
    "#     model = GradientBoostingClassifier(max_depth = n)\n",
    "#     model.fit(Mid_X_train, y_train)\n",
    "#     preds_valid = model.predict(Mid_X_valid)\n",
    "#     print(n, accuracy_score(y_valid, preds_valid))\n"
   ]
  },
  {
   "cell_type": "code",
   "execution_count": 40,
   "metadata": {},
   "outputs": [
    {
     "name": "stderr",
     "output_type": "stream",
     "text": [
      "/Users/sarahbraverman/opt/anaconda3/lib/python3.9/site-packages/xgboost/sklearn.py:1224: UserWarning: The use of label encoder in XGBClassifier is deprecated and will be removed in a future release. To remove this warning, do the following: 1) Pass option use_label_encoder=False when constructing XGBClassifier object; and 2) Encode your labels (y) as integers starting with 0, i.e. 0, 1, 2, ..., [num_class - 1].\n",
      "  warnings.warn(label_encoder_deprecation_msg, UserWarning)\n",
      "/Users/sarahbraverman/opt/anaconda3/lib/python3.9/site-packages/xgboost/data.py:250: FutureWarning: pandas.Int64Index is deprecated and will be removed from pandas in a future version. Use pandas.Index with the appropriate dtype instead.\n",
      "  elif isinstance(data.columns, (pd.Int64Index, pd.RangeIndex)):\n"
     ]
    },
    {
     "name": "stdout",
     "output_type": "stream",
     "text": [
      "[10:31:04] WARNING: /var/folders/sy/f16zz6x50xz3113nwtb9bvq00000gp/T/abs_44tbtwf8c1/croots/recipe/xgboost-split_1659548960882/work/src/learner.cc:1115: Starting in XGBoost 1.3.0, the default evaluation metric used with the objective 'binary:logistic' was changed from 'error' to 'logloss'. Explicitly set eval_metric if you'd like to restore the old behavior.\n"
     ]
    }
   ],
   "source": [
    "train_final = pd.concat([Mid_X_valid, Mid_X_train])\n",
    "y_final = pd.concat([y_valid, y_train])\n",
    "model.predict(train_final)\n",
    "y_final.isna().sum()\n",
    "\n",
    "model_final = XGBClassifier(random_state = 1, max_depth = 4)\n",
    "model_final.fit(train_final, y_final)\n",
    "preds = model_final.predict(Mid_final)\n"
   ]
  },
  {
   "cell_type": "code",
   "execution_count": 41,
   "metadata": {},
   "outputs": [],
   "source": [
    "output = pd.DataFrame({\"PassengerId\": ftest.PassengerId, \"Transported\": preds})\n",
    "output.to_csv('submission4.csv', index = False)"
   ]
  },
  {
   "attachments": {},
   "cell_type": "markdown",
   "metadata": {},
   "source": [
    "1741\n",
    "Sarah Braverman\n",
    "0.79027\n",
    "Your Best Entry!\n",
    "Your most recent submission scored 0.79027, which is an improvement of your previous score of 0.78185. Great job!"
   ]
  },
  {
   "attachments": {},
   "cell_type": "markdown",
   "metadata": {},
   "source": [
    "I changed the max_depth parameter \n",
    "\n",
    "Your most recent submission scored 0.79167, which is an improvement of your previous score of 0.79027. Great job!\n"
   ]
  },
  {
   "cell_type": "code",
   "execution_count": null,
   "metadata": {},
   "outputs": [],
   "source": []
  }
 ],
 "metadata": {
  "kernelspec": {
   "display_name": "base",
   "language": "python",
   "name": "python3"
  },
  "language_info": {
   "codemirror_mode": {
    "name": "ipython",
    "version": 3
   },
   "file_extension": ".py",
   "mimetype": "text/x-python",
   "name": "python",
   "nbconvert_exporter": "python",
   "pygments_lexer": "ipython3",
   "version": "3.9.12 (main, Apr  5 2022, 01:53:17) \n[Clang 12.0.0 ]"
  },
  "orig_nbformat": 4,
  "vscode": {
   "interpreter": {
    "hash": "82d6084fa52bbfe44e5d8bdc73d8f0ad601b91fd13e433e4ea3f469c7d7efe20"
   }
  }
 },
 "nbformat": 4,
 "nbformat_minor": 2
}
