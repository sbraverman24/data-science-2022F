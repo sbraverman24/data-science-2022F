{
 "cells": [
  {
   "cell_type": "markdown",
   "id": "a3a28689",
   "metadata": {},
   "source": [
    "# Data Science Lesson - Data Structures\n",
    "---\n",
    "**Question: How do we represent our Stick Figure Google Sheet (table) in a Python variable?**\n",
    "\n",
    "### List of Dictionaries\n",
    "\n",
    "Represent each person as a dictionary, and stote them all in a list. Output the list to verify."
   ]
  },
  {
   "cell_type": "code",
   "execution_count": 6,
   "id": "46d98ee3",
   "metadata": {},
   "outputs": [
    {
     "data": {
      "text/plain": [
       "[{'name': 'dakota',\n",
       "  'height': 72,\n",
       "  'friends': 307,\n",
       "  'gpa': 3.15,\n",
       "  'sport': 'basketball',\n",
       "  'shoes': 'sneakers'},\n",
       " {'name': 'hayden',\n",
       "  'height': 68,\n",
       "  'friends': 335,\n",
       "  'gpa': 3.5,\n",
       "  'sport': 'tennis',\n",
       "  'shoes': 'flip-flops'},\n",
       " {'name': 'charlie',\n",
       "  'height': 61,\n",
       "  'friends': 34,\n",
       "  'gpa': 1.1,\n",
       "  'sport': 'baseball',\n",
       "  'shoes': 'flip-flops'},\n",
       " {'name': 'kamryn',\n",
       "  'height': 66,\n",
       "  'friends': 200,\n",
       "  'gpa': 2.18,\n",
       "  'sport': 'soccer',\n",
       "  'shoes': 'sneakers'},\n",
       " {'name': 'emerson',\n",
       "  'height': 65,\n",
       "  'friends': 213,\n",
       "  'gpa': 3.06,\n",
       "  'sport': 'soccer',\n",
       "  'shoes': 'sneakers'},\n",
       " {'name': 'jessie',\n",
       "  'height': 61,\n",
       "  'friends': 202,\n",
       "  'gpa': 2.41,\n",
       "  'sport': 'basketball',\n",
       "  'shoes': 'flip-flops'},\n",
       " {'name': 'sawyer',\n",
       "  'height': 67,\n",
       "  'friends': 314,\n",
       "  'gpa': 2.96,\n",
       "  'sport': 'tennis',\n",
       "  'shoes': 'flip-flops'},\n",
       " {'name': 'london',\n",
       "  'height': 64,\n",
       "  'friends': 436,\n",
       "  'gpa': 3.98,\n",
       "  'sport': 'soccer',\n",
       "  'shoes': 'sneakers'}]"
      ]
     },
     "execution_count": 6,
     "metadata": {},
     "output_type": "execute_result"
    }
   ],
   "source": [
    "stick_figs = [\n",
    "\n",
    "{\"name\" : \"dakota\", \n",
    " \"height\" : 72,\n",
    " \"friends\" : 307,\n",
    " \"gpa\" : 3.15,\n",
    " \"sport\" : \"basketball\",\n",
    " \"shoes\": \"sneakers\"\n",
    "}, \n",
    "\n",
    "{\n",
    "    \"name\" : \"hayden\",\n",
    "    \"height\" : 68,\n",
    "    \"friends\" : 335,\n",
    "    \"gpa\" : 3.5,\n",
    "    \"sport\" : \"tennis\",\n",
    "    \"shoes\" : \"flip-flops\"\n",
    "},\n",
    "\n",
    "{\n",
    "    \"name\" : \"charlie\",\n",
    "    \"height\" : 61,\n",
    "    \"friends\" : 34,\n",
    "    \"gpa\" : 1.1,\n",
    "    \"sport\" : \"baseball\",\n",
    "    \"shoes\" : \"flip-flops\"\n",
    "},\n",
    "\n",
    "{\n",
    "    \"name\" : \"kamryn\",\n",
    "    \"height\" : 66,\n",
    "    \"friends\" : 200,\n",
    "    \"gpa\" : 2.18,\n",
    "    \"sport\" : \"soccer\",\n",
    "    \"shoes\" : \"sneakers\"\n",
    "},\n",
    "\n",
    "{\n",
    "    \"name\" : \"emerson\",\n",
    "    \"height\" : 65,\n",
    "    \"friends\" : 213,\n",
    "    \"gpa\" : 3.06,\n",
    "    \"sport\" : \"soccer\",\n",
    "    \"shoes\" : \"sneakers\"\n",
    "},\n",
    "\n",
    "{\n",
    "    \"name\" : \"jessie\",\n",
    "    \"height\" : 61,\n",
    "    \"friends\" : 202,\n",
    "    \"gpa\" : 2.41,\n",
    "    \"sport\" : \"basketball\",\n",
    "    \"shoes\" : \"flip-flops\"\n",
    "},\n",
    "\n",
    "{\n",
    "    \"name\" : \"sawyer\",\n",
    "    \"height\" : 67,\n",
    "    \"friends\" : 314,\n",
    "    \"gpa\" : 2.96,\n",
    "    \"sport\" : \"tennis\",\n",
    "    \"shoes\" : \"flip-flops\"\n",
    "},\n",
    "\n",
    "{\n",
    "    \"name\" : \"london\",\n",
    "    \"height\" : 64,\n",
    "    \"friends\" : 436,\n",
    "    \"gpa\" : 3.98,\n",
    "    \"sport\" : \"soccer\",\n",
    "    \"shoes\" : \"sneakers\"\n",
    "}\n",
    "]\n",
    "stick_figs"
   ]
  },
  {
   "cell_type": "markdown",
   "id": "9dee2d16",
   "metadata": {},
   "source": [
    "What is the mean height of people in our list? First, use pure Python functions (not the statistics module) to calculate this, and output to verify.\n",
    "\n",
    "*Hint: You may want to put all the heights in a list and then use that for your computations.*"
   ]
  },
  {
   "cell_type": "code",
   "execution_count": 36,
   "id": "3525da44",
   "metadata": {},
   "outputs": [
    {
     "name": "stdout",
     "output_type": "stream",
     "text": [
      "65.5\n"
     ]
    }
   ],
   "source": [
    "heights = [g[\"height\"] for g in stick_figs]\n",
    "    \n",
    "        \n",
    "mean_height = sum(heights)/len(heights)\n",
    "\n",
    "print(mean_height)\n",
    "        "
   ]
  },
  {
   "cell_type": "markdown",
   "id": "bcf0f231",
   "metadata": {},
   "source": [
    "Now, import NumPy (as np) and use its mean function to find the mean of the heights list directly."
   ]
  },
  {
   "cell_type": "code",
   "execution_count": 40,
   "id": "dac4edc5",
   "metadata": {},
   "outputs": [
    {
     "data": {
      "text/plain": [
       "65.5"
      ]
     },
     "execution_count": 40,
     "metadata": {},
     "output_type": "execute_result"
    }
   ],
   "source": [
    "import numpy as np\n",
    "\n",
    "np.mean(heights)"
   ]
  },
  {
   "cell_type": "markdown",
   "id": "25f72f93",
   "metadata": {},
   "source": [
    "## Dictionary of Lists\n",
    "\n",
    "Using a dictionary and key/value pairs, represent each attribute (column) of a person as a key and all the values of each attribute as a list. That is, a dictionary of lists. Output the dict to verify."
   ]
  },
  {
   "cell_type": "code",
   "execution_count": 46,
   "id": "d5dca641",
   "metadata": {},
   "outputs": [],
   "source": [
    "dictionary_of_lists = {\n",
    "    \"heights\" : [g[\"height\"] for g in stick_figs],\n",
    "    \"names\" : [g[\"name\"] for g in stick_figs],\n",
    "    \"sports\" : [g[\"sport\"] for g in stick_figs],\n",
    "    \"gpas\" : [g[\"gpa\"] for g in stick_figs],\n",
    "    \"shoes\" : [g[\"shoes\"] for g in stick_figs],\n",
    "    \"friends\" : [g[\"friends\"] for g in stick_figs]\n",
    "}\n",
    "\n"
   ]
  },
  {
   "cell_type": "markdown",
   "id": "846bdc27",
   "metadata": {},
   "source": [
    "Now use NumPy to get the mean in one statement."
   ]
  },
  {
   "cell_type": "code",
   "execution_count": 47,
   "id": "898bb3cd",
   "metadata": {},
   "outputs": [
    {
     "data": {
      "text/plain": [
       "65.5"
      ]
     },
     "execution_count": 47,
     "metadata": {},
     "output_type": "execute_result"
    }
   ],
   "source": [
    "np.mean(dictionary_of_lists[\"heights\"])"
   ]
  },
  {
   "cell_type": "markdown",
   "id": "5f0ed550",
   "metadata": {},
   "source": [
    "**So, which approach should we use? Or is there a better way? Hmmm...**"
   ]
  }
 ],
 "metadata": {
  "kernelspec": {
   "display_name": "Python 3 (ipykernel)",
   "language": "python",
   "name": "python3"
  },
  "language_info": {
   "codemirror_mode": {
    "name": "ipython",
    "version": 3
   },
   "file_extension": ".py",
   "mimetype": "text/x-python",
   "name": "python",
   "nbconvert_exporter": "python",
   "pygments_lexer": "ipython3",
   "version": "3.9.12"
  }
 },
 "nbformat": 4,
 "nbformat_minor": 5
}
